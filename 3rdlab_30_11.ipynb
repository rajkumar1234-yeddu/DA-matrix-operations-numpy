{
  "cells": [
    {
      "cell_type": "markdown",
      "metadata": {
        "id": "view-in-github",
        "colab_type": "text"
      },
      "source": [
        "<a href=\"https://colab.research.google.com/github/rajkumar1234-yeddu/DA-matrix-operations-numpy/blob/main/3rdlab_30_11.ipynb\" target=\"_parent\"><img src=\"https://colab.research.google.com/assets/colab-badge.svg\" alt=\"Open In Colab\"/></a>"
      ]
    },
    {
      "cell_type": "code",
      "execution_count": null,
      "id": "aeed4be5",
      "metadata": {
        "id": "aeed4be5"
      },
      "outputs": [],
      "source": [
        "import numpy as np"
      ]
    },
    {
      "cell_type": "code",
      "execution_count": null,
      "id": "3e05fbb2",
      "metadata": {
        "id": "3e05fbb2",
        "outputId": "96d7b5b6-4c16-4ddc-db6a-3a40ea6fac59"
      },
      "outputs": [
        {
          "name": "stdout",
          "output_type": "stream",
          "text": [
            "[4 5 6 7 8 9]\n",
            "4\n",
            "[ 8  9 10 11 12 13]\n",
            "2\n",
            "[2 3 4 5 6 7]\n"
          ]
        }
      ],
      "source": [
        "# a\n",
        "arr1 = np.array([4,5,6,7,8,9])\n",
        "print(arr1)\n",
        "\n",
        "x=int(input())\n",
        "arr2 = arr1+x\n",
        "print(arr2)\n",
        "\n",
        "y=int(input())\n",
        "arr3 = arr1-y\n",
        "print(arr3)"
      ]
    },
    {
      "cell_type": "code",
      "execution_count": null,
      "id": "e0192045",
      "metadata": {
        "id": "e0192045",
        "outputId": "1ce06a09-464a-4401-d4a9-87e206631524"
      },
      "outputs": [
        {
          "name": "stdout",
          "output_type": "stream",
          "text": [
            "[[ 1 -7  5]\n",
            " [ 5 -1  9]\n",
            " [ 2  4  7]]\n",
            "[[ 1  7 -5]\n",
            " [-5  3 -9]\n",
            " [-2 -4 -5]]\n",
            "[[ 0 -7  5]\n",
            " [ 5 -2  9]\n",
            " [ 2  4  6]]\n"
          ]
        }
      ],
      "source": [
        "# b\n",
        "arr1 = np.array([[1, 0, 0], [0, 1, 0], [0, 0, 1]])\n",
        "arr2 = np.array([[0, -7, 5], [5, -2, 9], [2, 4, 6]])\n",
        "\n",
        "print(np.add(arr1, arr2))\n",
        "print(np.subtract(arr1, arr2))\n",
        "print(np.dot(arr1, arr2))"
      ]
    },
    {
      "cell_type": "code",
      "execution_count": null,
      "id": "8ab214b0",
      "metadata": {
        "id": "8ab214b0",
        "outputId": "63fd6ba3-b3da-4745-b3cd-5215ce0e8612"
      },
      "outputs": [
        {
          "name": "stdout",
          "output_type": "stream",
          "text": [
            "(3, 3)\n",
            "2\n"
          ]
        }
      ],
      "source": [
        "# c 1\n",
        "arr1 = np.array([[1, 0, 0], [0, 1, 0], [0, 0, 1]])\n",
        "\n",
        "print(arr1.shape)\n",
        "print(arr1.ndim)"
      ]
    },
    {
      "cell_type": "code",
      "execution_count": null,
      "id": "28e8c823",
      "metadata": {
        "id": "28e8c823",
        "outputId": "c50ece97-77ae-41ef-e886-0f3b0cdc76dc"
      },
      "outputs": [
        {
          "data": {
            "text/plain": [
              "array([[0, 1, 1],\n",
              "       [1, 0, 0],\n",
              "       [1, 0, 0]])"
            ]
          },
          "execution_count": 78,
          "metadata": {},
          "output_type": "execute_result"
        }
      ],
      "source": [
        "#c 2\n",
        "arr1 = np.random.randint(2, size=9)\n",
        "arr1.reshape((3,3))"
      ]
    },
    {
      "cell_type": "code",
      "execution_count": null,
      "id": "2394a5e3",
      "metadata": {
        "id": "2394a5e3",
        "outputId": "ba9f2505-6367-4eba-c9a4-c56734cb1397"
      },
      "outputs": [
        {
          "name": "stdout",
          "output_type": "stream",
          "text": [
            "[[0 0 0]\n",
            " [0 0 0]\n",
            " [0 0 0]]\n",
            "\n",
            "[[1 1 1]\n",
            " [1 1 1]\n",
            " [1 1 1]]\n"
          ]
        }
      ],
      "source": [
        "# c 2\n",
        "arr1 = np.zeros((3,3), dtype=int)\n",
        "arr2 = np.ones((3,3), dtype=int)\n",
        "\n",
        "print(arr1)\n",
        "print()\n",
        "print(arr2)"
      ]
    },
    {
      "cell_type": "code",
      "execution_count": null,
      "id": "e4443914",
      "metadata": {
        "id": "e4443914",
        "outputId": "f6d1767a-ddce-4b34-94d1-99cdda0cba52"
      },
      "outputs": [
        {
          "name": "stdout",
          "output_type": "stream",
          "text": [
            "[[1 0 0 0 1 0 0 0 1]]\n",
            "\n",
            "[1 0 0 0 1 0 0 0 1]\n"
          ]
        }
      ],
      "source": [
        "# c 3\n",
        "arr1 = np.array([[1, 0, 0], [0, 1, 0], [0, 0, 1]])\n",
        "\n",
        "print(arr1.reshape((1,9)))  #reshape\n",
        "print()\n",
        "print(arr1.reshape(-1))  #flatten"
      ]
    },
    {
      "cell_type": "code",
      "execution_count": null,
      "id": "6f162568",
      "metadata": {
        "id": "6f162568",
        "outputId": "2eaf25c9-03c1-4d5b-d4ea-0d033fca5f06"
      },
      "outputs": [
        {
          "name": "stdout",
          "output_type": "stream",
          "text": [
            "[[ 1  0  0]\n",
            " [ 0  1  0]\n",
            " [ 0  0  1]\n",
            " [ 0 -7  5]\n",
            " [ 5 -2  9]\n",
            " [ 2  4  6]]\n",
            "\n",
            "[[ 1  0  0  0 -7  5]\n",
            " [ 0  1  0  5 -2  9]\n",
            " [ 0  0  1  2  4  6]]\n"
          ]
        }
      ],
      "source": [
        "# c 4\n",
        "arr1 = np.array([[1, 0, 0], [0, 1, 0], [0, 0, 1]])\n",
        "arr2 = np.array([[0, -7, 5], [5, -2, 9], [2, 4, 6]])\n",
        "\n",
        "print(np.append(arr1, arr2, axis=0))  # Vertically\n",
        "print()\n",
        "print(np.append(arr1, arr2, axis=1))  # Horizontally"
      ]
    },
    {
      "cell_type": "code",
      "execution_count": null,
      "id": "d23493cf",
      "metadata": {
        "id": "d23493cf",
        "outputId": "7fa7c8d9-9346-4736-a424-b9fe86ed2fc9"
      },
      "outputs": [
        {
          "name": "stdout",
          "output_type": "stream",
          "text": [
            "-7\n",
            "[ 5 -2  9]\n",
            "[[ 0 -7  5]\n",
            " [ 5 -2  9]]\n"
          ]
        }
      ],
      "source": [
        "# c 5\n",
        "arr1 = np.array([[0, -7, 5], [5, -2, 9], [2, 4, 6]])\n",
        "\n",
        "print(arr1[0,1])  #element\n",
        "print(arr1[1])  #row\n",
        "print(arr1[0:2])  #multiple rows"
      ]
    },
    {
      "cell_type": "code",
      "execution_count": null,
      "id": "3578a2cd",
      "metadata": {
        "id": "3578a2cd",
        "outputId": "a320329a-81a5-402a-b1a9-2c5c80995d23"
      },
      "outputs": [
        {
          "name": "stdout",
          "output_type": "stream",
          "text": [
            "-7\n",
            "9\n",
            "2.4444444444444446\n",
            "4.0\n",
            "4.5487754423241595\n"
          ]
        }
      ],
      "source": [
        "# c 6\n",
        "arr1 = np.array([[0, -7, 5], [5, -2, 9], [2, 4, 6]])\n",
        "\n",
        "print(np.min(arr1))\n",
        "print(np.max(arr1))\n",
        "print(np.mean(arr1))\n",
        "print(np.median(arr1))\n",
        "print(np.std(arr1))"
      ]
    },
    {
      "cell_type": "code",
      "execution_count": null,
      "id": "1921623f",
      "metadata": {
        "id": "1921623f",
        "outputId": "e2a09c8b-2b0e-420f-baeb-a955455b2c1b"
      },
      "outputs": [
        {
          "name": "stdout",
          "output_type": "stream",
          "text": [
            "[[ 0 -7  5]\n",
            " [ 5 -2  9]\n",
            " [ 2  4  6]]\n",
            "[[ 0  0  0]\n",
            " [ 0 -2  0]\n",
            " [ 0  0  6]]\n"
          ]
        }
      ],
      "source": [
        "# c 7\n",
        "arr1 = np.array([[1, 0, 0], [0, 1, 0], [0, 0, 1]])\n",
        "arr2 = np.array([[0, -7, 5], [5, -2, 9], [2, 4, 6]])\n",
        "\n",
        "print(np.dot(arr1, arr2))\n",
        "\n",
        "print(arr1*arr2)"
      ]
    },
    {
      "cell_type": "code",
      "execution_count": null,
      "id": "187544b6",
      "metadata": {
        "id": "187544b6",
        "outputId": "10d973b2-3c1c-47dd-b934-11e3d8d3f804"
      },
      "outputs": [
        {
          "name": "stdout",
          "output_type": "stream",
          "text": [
            "[ 9.04028786+0.j         -2.52014393+4.02672667j -2.52014393-4.02672667j]\n"
          ]
        }
      ],
      "source": [
        "# c 8\n",
        "arr1 = np.array([[0, -7, 5], [5, -2, 9], [2, 4, 6]])\n",
        "\n",
        "eig_val, eig_vec = np.linalg.eig(arr1)\n",
        "print(eig_val)"
      ]
    },
    {
      "cell_type": "code",
      "execution_count": null,
      "id": "401c4d15",
      "metadata": {
        "id": "401c4d15",
        "outputId": "7f57c043-1a43-4be8-a493-f0ebc4acbc1a"
      },
      "outputs": [
        {
          "name": "stdout",
          "output_type": "stream",
          "text": [
            "[2. 3.]\n"
          ]
        }
      ],
      "source": [
        "# c 9\n",
        "'''\n",
        "3 * x0 + x1 = 9, x0 + 2 * x1 = 8 \n",
        "'''\n",
        "a = [[3,1], [1,2]]\n",
        "b = [9,8]\n",
        "print(np.linalg.solve(a,b))"
      ]
    },
    {
      "cell_type": "code",
      "execution_count": null,
      "id": "d89ccee4",
      "metadata": {
        "id": "d89ccee4",
        "outputId": "ee9c847b-62cd-4d47-97a1-9965bea021f1"
      },
      "outputs": [
        {
          "name": "stdout",
          "output_type": "stream",
          "text": [
            "[[-0.23529412  0.30392157 -0.25980392]\n",
            " [-0.05882353 -0.04901961  0.12254902]\n",
            " [ 0.11764706 -0.06862745  0.17156863]]\n"
          ]
        }
      ],
      "source": [
        "# c 10\n",
        "arr1 = np.array([[0, -7, 5], [5, -2, 9], [2, 4, 6]])\n",
        "print(np.linalg.inv(arr1))"
      ]
    },
    {
      "cell_type": "code",
      "execution_count": null,
      "id": "d01f3369",
      "metadata": {
        "id": "d01f3369",
        "outputId": "3710e7e3-a2ba-42c3-9c99-2d653f4032d7"
      },
      "outputs": [
        {
          "name": "stdout",
          "output_type": "stream",
          "text": [
            "3\n"
          ]
        }
      ],
      "source": [
        "# c 11\n",
        "arr1 = np.array([[0, -7, 5], [5, -2, 9], [2, 4, 6]])\n",
        "print(np.linalg.matrix_rank(arr1))"
      ]
    },
    {
      "cell_type": "code",
      "execution_count": null,
      "id": "29eea48a",
      "metadata": {
        "id": "29eea48a",
        "outputId": "d12e3958-037a-4fb8-a89a-4e2b5cf396f7"
      },
      "outputs": [
        {
          "name": "stdout",
          "output_type": "stream",
          "text": [
            "203.99999999999994\n"
          ]
        }
      ],
      "source": [
        "# c 12\n",
        "arr1 = np.array([[0, -7, 5], [5, -2, 9], [2, 4, 6]])\n",
        "print(np.linalg.det(arr1))"
      ]
    }
  ],
  "metadata": {
    "kernelspec": {
      "display_name": "Python 3 (ipykernel)",
      "language": "python",
      "name": "python3"
    },
    "language_info": {
      "codemirror_mode": {
        "name": "ipython",
        "version": 3
      },
      "file_extension": ".py",
      "mimetype": "text/x-python",
      "name": "python",
      "nbconvert_exporter": "python",
      "pygments_lexer": "ipython3",
      "version": "3.9.7"
    },
    "colab": {
      "provenance": [],
      "include_colab_link": true
    }
  },
  "nbformat": 4,
  "nbformat_minor": 5
}